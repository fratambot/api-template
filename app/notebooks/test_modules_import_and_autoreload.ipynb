{
 "cells": [
  {
   "cell_type": "markdown",
   "id": "4dd6a45e",
   "metadata": {},
   "source": [
    "### Activating autoreload"
   ]
  },
  {
   "cell_type": "code",
   "execution_count": 1,
   "id": "e855651a",
   "metadata": {},
   "outputs": [],
   "source": [
    "import autoreload\n",
    "%load_ext autoreload\n",
    "%autoreload 2"
   ]
  },
  {
   "cell_type": "markdown",
   "id": "e593d1fd",
   "metadata": {},
   "source": [
    "### Changing workdir\n",
    "Assuming a standard structure for the project in which the notebooks live in a notebook folder in the root of the project, we can move one level up in order to get access to the whole project.\n",
    "# The following cell must be run only once !! (while finding a better solution..env var ?)"
   ]
  },
  {
   "cell_type": "code",
   "execution_count": 2,
   "id": "47e2c35d",
   "metadata": {},
   "outputs": [
    {
     "name": "stdout",
     "output_type": "stream",
     "text": [
      "/Users/francesco/REPOS/api-template/notebooks\n"
     ]
    },
    {
     "data": {
      "text/plain": [
       "'/Users/francesco/REPOS/api-template'"
      ]
     },
     "execution_count": 2,
     "metadata": {},
     "output_type": "execute_result"
    }
   ],
   "source": [
    "import os\n",
    "print(os.getcwd())\n",
    "\n",
    "os.chdir(os.path.dirname(os.getcwd()))\n",
    "%pwd"
   ]
  },
  {
   "cell_type": "code",
   "execution_count": 3,
   "id": "8e180211",
   "metadata": {},
   "outputs": [],
   "source": [
    "from api import main\n",
    "from models.algebra import array"
   ]
  },
  {
   "cell_type": "code",
   "execution_count": 4,
   "id": "2b5e2f05",
   "metadata": {},
   "outputs": [
    {
     "name": "stdout",
     "output_type": "stream",
     "text": [
      "[0.50022483 0.4707177  0.92193576]\n"
     ]
    }
   ],
   "source": [
    "print(array.get_random())"
   ]
  },
  {
   "cell_type": "code",
   "execution_count": null,
   "id": "3770f739",
   "metadata": {},
   "outputs": [],
   "source": []
  }
 ],
 "metadata": {
  "kernelspec": {
   "display_name": "Python 3 (ipykernel)",
   "language": "python",
   "name": "python3"
  },
  "language_info": {
   "codemirror_mode": {
    "name": "ipython",
    "version": 3
   },
   "file_extension": ".py",
   "mimetype": "text/x-python",
   "name": "python",
   "nbconvert_exporter": "python",
   "pygments_lexer": "ipython3",
   "version": "3.8.8"
  }
 },
 "nbformat": 4,
 "nbformat_minor": 5
}
